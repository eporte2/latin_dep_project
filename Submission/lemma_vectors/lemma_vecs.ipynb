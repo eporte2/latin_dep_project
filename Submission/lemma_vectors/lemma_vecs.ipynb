{
 "cells": [
  {
   "cell_type": "markdown",
   "metadata": {},
   "source": [
    "# Imports"
   ]
  },
  {
   "cell_type": "code",
   "execution_count": 1,
   "metadata": {},
   "outputs": [],
   "source": [
    "### IMPORTS ###\n",
    "\n",
    "import numpy as np\n",
    "import os\n",
    "from pprint import pprint\n",
    "from backports import lzma\n",
    "from string import punctuation\n",
    "import timeit\n",
    "import pickle\n",
    "from sklearn.manifold import TSNE\n",
    "import matplotlib.pyplot as plt"
   ]
  },
  {
   "cell_type": "markdown",
   "metadata": {},
   "source": [
    "# Load and Plot"
   ]
  },
  {
   "cell_type": "code",
   "execution_count": 2,
   "metadata": {},
   "outputs": [
    {
     "name": "stdout",
     "output_type": "stream",
     "text": [
      "Loading word vectors from latin.vectors...\n",
      "Loaded 492675 vectors!\n"
     ]
    }
   ],
   "source": [
    "### LOAD TOKEN WORD VECS ###\n",
    "\n",
    "def load_vecs(filename=\"latin.vectors\"):\n",
    "    file = open(filename, \"rb\")\n",
    "    vecs = {}\n",
    "    print(\"Loading word vectors from {}...\".format(filename))\n",
    "    for l in file:\n",
    "        l_split = l.split()\n",
    "        token = l_split[0]\n",
    "        if token[-1].isalpha() and token[0].isalpha():\n",
    "            vec = np.array([float(dim) for dim in l_split[1:]])\n",
    "            vecs[token] = vec\n",
    "    print(\"Loaded {} vectors!\".format(len(vecs)))\n",
    "    return vecs\n",
    "        \n",
    "token_vectors = load_vecs()\n",
    "    "
   ]
  },
  {
   "cell_type": "code",
   "execution_count": 3,
   "metadata": {},
   "outputs": [
    {
     "name": "stdout",
     "output_type": "stream",
     "text": [
      "Loading word vectors from latin_lemma.vectors...\n",
      "Loaded 73163 vectors!\n"
     ]
    }
   ],
   "source": [
    "### LOAD LEMMA VECTORS ###\n",
    "lemma_vectors = load_vecs(\"latin_lemma.vectors\")"
   ]
  },
  {
   "cell_type": "code",
   "execution_count": 4,
   "metadata": {},
   "outputs": [
    {
     "name": "stdout",
     "output_type": "stream",
     "text": [
      "Loading map...\n",
      "Loading reduced map...\n",
      "Done!\n"
     ]
    }
   ],
   "source": [
    "### LOAD LEMMA TO TOKEN MAP (REDUCED)\n",
    "\n",
    "print(\"Loading map...\")\n",
    "map = pickle.load(open(\"latin_token_lemma_mapping/lemma_token_map.pkl\"))\n",
    "print(\"Loading reduced map...\")\n",
    "reduced_map = pickle.load(open(\"latin_token_lemma_mapping/reduced_lemma_token_map.pkl\"))\n",
    "print(\"Done!\")"
   ]
  },
  {
   "cell_type": "code",
   "execution_count": 22,
   "metadata": {},
   "outputs": [
    {
     "name": "stdout",
     "output_type": "stream",
     "text": [
      "['dicendum', 'diceremus', 'dicasse', 'dich', 'dici', 'dick', 'dico', 'dict', 'dixerimus', 'dicata', 'dicato', 'dicati', 'dixerint', 'dicuntur', 'dicatos', 'dicenti', 'dicandam', 'dicente', 'dicendo', 'dicendi', 'dicenda', 'diceres', 'dicentis', 'dicarent', 'dixit', 'dicentia', 'dicentes', 'diceret', 'dixisset', 'dicentium', 'dicebatur', 'dicare', 'dicari', 'dictos', 'dicendos', 'dicet', 'dices', 'dicatis', 'dicatarum', 'dicere', 'dicatas', 'dicetur', 'dicemus', 'dicatae', 'dicta', 'dicto', 'dicti', 'diximus', 'dicaverunt', 'dixisse', 'dicunt', 'dicatum', 'dicantur', 'dicavit', 'dicatus', 'dicatur', 'dicatorum', 'dicendas', 'dixi', 'dicerent', 'dicebat', 'dicendis', 'dicendam', 'dictis', 'dicaret', 'dicitis', 'dictas', 'dictorum', 'dictae', 'dictam', 'dictum', 'dicentem', 'dicimur', 'dicimus', 'dicerentur', 'dictus', 'dictur', 'dicentur', 'dicentibus', 'dicebant', 'dictarum', 'dixerunt', 'dicamus', 'dicito', 'dicis', 'dicit', 'dicendorum', 'dicite', 'dicavi', 'dicaverit', 'dicam', 'dixerit', 'dicens', 'dicent', 'dixerat', 'dicitur', 'dicar', 'dicas', 'dicatam', 'dicat', 'dicetis', 'dicant', 'dicans', 'diceretur', 'dicendae']\n"
     ]
    }
   ],
   "source": [
    "lemma = \"leg\"\n",
    "print(reduced_map[\"dic\"])\n",
    "# print(token_vectors[\"puero\"])"
   ]
  },
  {
   "cell_type": "code",
   "execution_count": 24,
   "metadata": {},
   "outputs": [
    {
     "name": "stdout",
     "output_type": "stream",
     "text": [
      "['puell', 'puellis', 'puellam', 'puellarum', 'puella', 'puellae', 'puellas', 'puellari']\n"
     ]
    },
    {
     "data": {
      "image/png": "[encoded data removed]",
      "text/plain": [
       "<matplotlib.figure.Figure at 0x120d70c10>"
      ]
     },
     "metadata": {},
     "output_type": "display_data"
    }
   ],
   "source": [
    "### PICK LEMMA AND PLOT TOKENS ###\n",
    "\n",
    "lemma = \"puell\"\n",
    "tokens = reduced_map[lemma]\n",
    "l_vec = lemma_vectors[lemma]\n",
    "t_vecs = [token_vectors.get(t) for t in tokens]\n",
    "X = [l_vec] + t_vecs\n",
    "Y = [lemma] + tokens\n",
    "print(Y)\n",
    "\n",
    "def reduce_dims(input):\n",
    "    tsne = TSNE(perplexity=2,\n",
    "                n_components=2,\n",
    "                init='pca',\n",
    "                n_iter=5000,\n",
    "                method='exact')\n",
    "    low_dim_embs = tsne.fit_transform(input)\n",
    "    return low_dim_embs\n",
    "\n",
    "def save_plot(embeds, labels, savename):\n",
    "    assert low_dim_embs.shape[0] >= len(labels), 'More labels than embeddings'\n",
    "    plt.figure(figsize=(18, 18))  # in inches\n",
    "    for i, label in enumerate(labels):\n",
    "      x, y = low_dim_embs[i, :]\n",
    "      plt.scatter(x, y)\n",
    "      plt.annotate(\n",
    "          label,\n",
    "          xy=(x, y),\n",
    "          xytext=(5, 2),\n",
    "          textcoords='offset points',\n",
    "          ha='right',\n",
    "          va='bottom')\n",
    "    plt.savefig(savename)\n",
    "\n",
    "low_dim_embs = reduce_dims(X)\n",
    "save_plot(low_dim_embs, Y, \"plots/\" + lemma)\n"
   ]
  },
  {
   "cell_type": "markdown",
   "metadata": {},
   "source": [
    "# Data Creation"
   ]
  },
  {
   "cell_type": "code",
   "execution_count": null,
   "metadata": {},
   "outputs": [],
   "source": [
    "### EXTRACT TOKEN LEMMA MAPPINGS ###\n",
    "\n",
    "def token_lemma_map_xz(dir=\"../Latin-annotated-conll17/Latin/\", save_dir=\"latin_token_lemma_mapping/\"):\n",
    "    files = os.listdir(dir)\n",
    "    xz_files = sorted([f for f in files if f[-3:] == \".xz\"], reverse=True)\n",
    "    already_done = os.listdir(save_dir)\n",
    "    for xz_file in xz_files:\n",
    "        if \".\".join(xz_file.split(\".\")[:-1]) + \".tsv\" in already_done:\n",
    "            continue\n",
    "        xz_dir = dir + xz_file\n",
    "        text_io = lzma.open(xz_dir)\n",
    "        extract(text_io, xz_file, save_dir)\n",
    "\n",
    "def token_lemma_map_ittb(dir=\"../UD_Latin-ITTB/\", save_dir=\"latin_token_lemma_mapping/\"):\n",
    "    files = os.listdir(dir)\n",
    "    conllu_files = sorted([f for f in files if f[-7:] == \".conllu\"])\n",
    "    already_done = os.listdir(save_dir)\n",
    "    for conllu_file in conllu_files:\n",
    "        if \".\".join(conllu_file.split(\".\")[:-1]) + \".tsv\" in already_done:\n",
    "            continue\n",
    "        conllu_dir = dir + conllu_file\n",
    "        text_io = open(conllu_dir)\n",
    "        extract(text_io, conllu_file, save_dir)\n",
    "        \n",
    "def extract(file_io, filename, save_dir):\n",
    "    mappings = set()\n",
    "    start = timeit.default_timer()\n",
    "    print(\"Processing file: {}\".format(filename))\n",
    "    for i, raw_l in enumerate(file_io):\n",
    "        print_every = 100000\n",
    "        if i % print_every == 0:\n",
    "            print(\"\\t{} - Tokens: {} Mappings: {}\".format(filename, i, len(mappings)))\n",
    "        l = raw_l.split(\"\\t\")\n",
    "        try:\n",
    "            token, lemma = l[1:3]\n",
    "        except ValueError:\n",
    "            continue\n",
    "        mappings.add(token + \"\\t\" + lemma)\n",
    "    end = timeit.default_timer()\n",
    "    print(\"File {} processed in {}s\".format(filename, end-start))\n",
    "    save_filename = \".\".join(filename.split(\".\")[:-1]) + \".tsv\"\n",
    "    with open(save_dir + save_filename, \"wb\") as output:\n",
    "        for m in mappings:\n",
    "            output.write(m + \"\\n\")\n",
    "    print(\"Saved in {}{}\".format(save_dir, save_filename))\n",
    "    print\n",
    "\n",
    "token_lemma_map_ittb()\n",
    "token_lemma_map_xz()\n"
   ]
  },
  {
   "cell_type": "code",
   "execution_count": null,
   "metadata": {},
   "outputs": [],
   "source": [
    "### CREATE DICT THAT MAPS LEMMAS TO TOKENS ###\n",
    "\n",
    "def generate_mappings(dir=\"latin_token_lemma_mapping/\"):\n",
    "    files = os.listdir(dir)\n",
    "    mappings = {}\n",
    "    for file in files:\n",
    "        if file[-4:] != \".tsv\":\n",
    "            continue\n",
    "        print(\"Processing {}\".format(file))\n",
    "        for l in open(dir+file):\n",
    "            try:\n",
    "                token, lemma = l[:-2].split(\"\\t\")\n",
    "            except ValueError:\n",
    "                continue\n",
    "            if valid(lemma) and valid(token):\n",
    "                if lemma not in mappings:\n",
    "                    mappings[lemma] = set([token])\n",
    "                else:\n",
    "                    mappings[lemma].add(token)\n",
    "        print(\"Num mappings: {}\".format(len(mappings)))\n",
    "        print\n",
    "    return mappings\n",
    "\n",
    "def valid(word):\n",
    "    if not word:\n",
    "        return False\n",
    "    for ch in word:\n",
    "        if ch.isdigit():\n",
    "            return False\n",
    "        if ch in [\"\\\\\", \"/\", \",\", \"?\", \"!\"]:\n",
    "            return False\n",
    "    return True\n",
    "\n",
    "lemma_token_map = generate_mappings()\n",
    "print(\"Pickling...\")\n",
    "pickle.dump(lemma_token_map, open(\"latin_token_lemma_mapping/lemma_token_map.pkl\",\"wb\"))\n",
    "print(\"Done\")"
   ]
  },
  {
   "cell_type": "code",
   "execution_count": null,
   "metadata": {},
   "outputs": [],
   "source": [
    "### CREATES A LEMMA TOKEN MAP THAT ONLY CONTAINS TOKENS WITH WORD VECTORS ###\n",
    "\n",
    "def reduce_map(token_vectors, lemma_token_map):\n",
    "    ret = {}\n",
    "    for lemma in lemma_token_map:\n",
    "        tokens = lemma_token_map[lemma]\n",
    "        ret[lemma] = []\n",
    "        for token in tokens:\n",
    "            if token in token_vectors:\n",
    "                ret[lemma].append(token)\n",
    "        if len(ret[lemma]) == 0:\n",
    "            del ret[lemma]\n",
    "    return ret\n",
    "\n",
    "start = timeit.default_timer()\n",
    "lemma_token_map = pickle.load(open(\"latin_token_lemma_mapping/lemma_token_map.pkl\"))\n",
    "reduced_map = reduce_map(token_vectors, lemma_token_map)\n",
    "pickle.dump(reduced_map, open(\"latin_token_lemma_mapping/reduced_lemma_token_map.pkl\", \"wb\"))\n",
    "end = timeit.default_timer()\n",
    "print(end-start)"
   ]
  },
  {
   "cell_type": "code",
   "execution_count": null,
   "metadata": {},
   "outputs": [],
   "source": [
    "### TURN TOKEN LEVEL VECTORS TO LEMMA LEVEL VECTORS ###\n",
    "\n",
    "# Maybe add a check that as many word vecs pass through this as tokens #\n",
    "\n",
    "\n",
    "\n",
    "def lemmatize_vectors(token_vectors, lemma_token_map, print_every=1000):\n",
    "    print(\"Creating vectors for {} lemmas...\".format(len(reduced_map)))\n",
    "    with open(\"latin_lemma.vectors\", \"wb\") as output:\n",
    "        output.write(str(len(lemma_token_map)) + \" \")\n",
    "        output.write(str(len(token_vectors[\"puer\"])) + \"\\n\")\n",
    "        for i, lemma in enumerate(lemma_token_map):\n",
    "            if i%print_every == 0:\n",
    "                print(\"Vectors created: {}\".format(i))\n",
    "            tokens = lemma_token_map[lemma]\n",
    "            vecs = []\n",
    "            for t in tokens:\n",
    "                vecs.append(token_vectors[t])\n",
    "            vector = sum(vecs)/len(vecs)\n",
    "            output.write(lemma + \" \")\n",
    "            str_vector = [str(d) for d in vector]\n",
    "            output.write(\" \".join(str_vector) + \"\\n\")\n",
    "    \n",
    "\n",
    "\n",
    "lemmatize_vectors(token_vectors, reduced_map)\n"
   ]
  },
  {
   "cell_type": "code",
   "execution_count": null,
   "metadata": {},
   "outputs": [],
   "source": []
  }
 ],
 "metadata": {
  "kernelspec": {
   "display_name": "Python 2",
   "language": "python",
   "name": "python2"
  },
  "language_info": {
   "codemirror_mode": {
    "name": "ipython",
    "version": 2
   },
   "file_extension": ".py",
   "mimetype": "text/x-python",
   "name": "python",
   "nbconvert_exporter": "python",
   "pygments_lexer": "ipython2",
   "version": "2.7.10"
  }
 },
 "nbformat": 4,
 "nbformat_minor": 2
}
